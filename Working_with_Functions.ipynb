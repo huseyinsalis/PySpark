{
  "nbformat": 4,
  "nbformat_minor": 0,
  "metadata": {
    "colab": {
      "name": "Working with Functions.ipynb",
      "provenance": [],
      "toc_visible": true,
      "include_colab_link": true
    },
    "kernelspec": {
      "display_name": "Python 3",
      "language": "python",
      "name": "python3"
    },
    "language_info": {
      "codemirror_mode": {
        "name": "ipython",
        "version": 3
      },
      "file_extension": ".py",
      "mimetype": "text/x-python",
      "name": "python",
      "nbconvert_exporter": "python",
      "pygments_lexer": "ipython3",
      "version": "3.6.5"
    }
  },
  "cells": [
    {
      "cell_type": "markdown",
      "metadata": {
        "id": "view-in-github",
        "colab_type": "text"
      },
      "source": [
        "<a href=\"https://colab.research.google.com/github/huseyinsalis/PySpark/blob/master/Working_with_Functions.ipynb\" target=\"_parent\"><img src=\"https://colab.research.google.com/assets/colab-badge.svg\" alt=\"Open In Colab\"/></a>"
      ]
    },
    {
      "cell_type": "markdown",
      "metadata": {
        "colab_type": "text",
        "id": "8qf-TmnsBgXd"
      },
      "source": [
        "# Download Chicago's Reported Crime Data"
      ]
    },
    {
      "cell_type": "markdown",
      "metadata": {
        "colab_type": "text",
        "id": "Dd6t0uFzuR4X"
      },
      "source": [
        "## Download and install Spark"
      ]
    },
    {
      "cell_type": "code",
      "metadata": {
        "colab_type": "code",
        "id": "zToS5PqxBXpK",
        "outputId": "d49c14d5-9491-4ed7-a68d-3e13633e5e2d",
        "colab": {
          "base_uri": "https://localhost:8080/",
          "height": 34
        }
      },
      "source": [
        "!ls"
      ],
      "execution_count": 0,
      "outputs": [
        {
          "output_type": "stream",
          "text": [
            "sample_data\n"
          ],
          "name": "stdout"
        }
      ]
    },
    {
      "cell_type": "code",
      "metadata": {
        "colab_type": "code",
        "id": "tt7ZS1_wGgjn",
        "colab": {
          "base_uri": "https://localhost:8080/",
          "height": 470
        },
        "outputId": "d2421314-fd93-4da4-9e6b-882e54a30499"
      },
      "source": [
        "!apt-get update\n",
        "!apt-get install openjdk-8-jdk-headless -qq > /dev/null\n",
        "!wget -q http://archive.apache.org/dist/spark/spark-2.3.1/spark-2.3.1-bin-hadoop2.7.tgz\n",
        "!tar xf spark-2.3.1-bin-hadoop2.7.tgz\n",
        "!pip install -q findspark"
      ],
      "execution_count": 14,
      "outputs": [
        {
          "output_type": "stream",
          "text": [
            "Get:1 https://cloud.r-project.org/bin/linux/ubuntu bionic-cran35/ InRelease [3,626 B]\n",
            "Ign:2 https://developer.download.nvidia.com/compute/cuda/repos/ubuntu1804/x86_64  InRelease\n",
            "Get:3 https://cloud.r-project.org/bin/linux/ubuntu bionic-cran35/ Packages [88.1 kB]\n",
            "Ign:4 https://developer.download.nvidia.com/compute/machine-learning/repos/ubuntu1804/x86_64  InRelease\n",
            "Hit:5 https://developer.download.nvidia.com/compute/cuda/repos/ubuntu1804/x86_64  Release\n",
            "Hit:6 https://developer.download.nvidia.com/compute/machine-learning/repos/ubuntu1804/x86_64  Release\n",
            "Get:8 http://ppa.launchpad.net/graphics-drivers/ppa/ubuntu bionic InRelease [21.3 kB]\n",
            "Hit:10 http://archive.ubuntu.com/ubuntu bionic InRelease\n",
            "Get:11 http://security.ubuntu.com/ubuntu bionic-security InRelease [88.7 kB]\n",
            "Get:12 http://archive.ubuntu.com/ubuntu bionic-updates InRelease [88.7 kB]\n",
            "Get:13 http://archive.ubuntu.com/ubuntu bionic-backports InRelease [74.6 kB]\n",
            "Get:14 http://security.ubuntu.com/ubuntu bionic-security/multiverse amd64 Packages [8,213 B]\n",
            "Get:15 http://ppa.launchpad.net/marutter/c2d4u3.5/ubuntu bionic InRelease [15.4 kB]\n",
            "Get:16 http://security.ubuntu.com/ubuntu bionic-security/main amd64 Packages [889 kB]\n",
            "Get:17 http://archive.ubuntu.com/ubuntu bionic-updates/universe amd64 Packages [1,372 kB]\n",
            "Get:18 http://ppa.launchpad.net/graphics-drivers/ppa/ubuntu bionic/main amd64 Packages [37.4 kB]\n",
            "Get:19 http://security.ubuntu.com/ubuntu bionic-security/restricted amd64 Packages [44.6 kB]\n",
            "Get:20 http://security.ubuntu.com/ubuntu bionic-security/universe amd64 Packages [839 kB]\n",
            "Get:21 http://archive.ubuntu.com/ubuntu bionic-updates/multiverse amd64 Packages [12.6 kB]\n",
            "Get:22 http://archive.ubuntu.com/ubuntu bionic-updates/restricted amd64 Packages [59.0 kB]\n",
            "Get:23 http://archive.ubuntu.com/ubuntu bionic-updates/main amd64 Packages [1,185 kB]\n",
            "Get:24 http://ppa.launchpad.net/marutter/c2d4u3.5/ubuntu bionic/main Sources [1,811 kB]\n",
            "Get:25 http://archive.ubuntu.com/ubuntu bionic-backports/main amd64 Packages [8,286 B]\n",
            "Get:26 http://archive.ubuntu.com/ubuntu bionic-backports/universe amd64 Packages [7,674 B]\n",
            "Get:27 http://ppa.launchpad.net/marutter/c2d4u3.5/ubuntu bionic/main amd64 Packages [874 kB]\n",
            "Fetched 7,528 kB in 10s (771 kB/s)\n",
            "Reading package lists... Done\n"
          ],
          "name": "stdout"
        }
      ]
    },
    {
      "cell_type": "markdown",
      "metadata": {
        "colab_type": "text",
        "id": "FEuEkV0BlzAD"
      },
      "source": [
        "## Setup environment"
      ]
    },
    {
      "cell_type": "code",
      "metadata": {
        "colab_type": "code",
        "id": "sdOOq4twHN1K",
        "outputId": "beb584a0-4fcb-4ece-ada1-c94d8083f352",
        "colab": {
          "base_uri": "https://localhost:8080/",
          "height": 214
        }
      },
      "source": [
        "import os\n",
        "os.environ[\"JAVA_HOME\"] = \"/usr/lib/jvm/java-8-openjdk-amd64\"\n",
        "os.environ[\"SPARK_HOME\"] = \"/content/spark-2.3.1-bin-hadoop2.7\"\n",
        "\n",
        "import findspark\n",
        "findspark.init()\n",
        "from pyspark import SparkContext\n",
        "sc = SparkContext.getOrCreate()\n",
        "\n",
        "import pyspark\n",
        "from pyspark.sql import SparkSession\n",
        "spark = SparkSession.builder.getOrCreate() \n",
        "spark"
      ],
      "execution_count": 15,
      "outputs": [
        {
          "output_type": "execute_result",
          "data": {
            "text/html": [
              "\n",
              "            <div>\n",
              "                <p><b>SparkSession - in-memory</b></p>\n",
              "                \n",
              "        <div>\n",
              "            <p><b>SparkContext</b></p>\n",
              "\n",
              "            <p><a href=\"http://2699af048547:4040\">Spark UI</a></p>\n",
              "\n",
              "            <dl>\n",
              "              <dt>Version</dt>\n",
              "                <dd><code>v2.3.1</code></dd>\n",
              "              <dt>Master</dt>\n",
              "                <dd><code>local[*]</code></dd>\n",
              "              <dt>AppName</dt>\n",
              "                <dd><code>pyspark-shell</code></dd>\n",
              "            </dl>\n",
              "        </div>\n",
              "        \n",
              "            </div>\n",
              "        "
            ],
            "text/plain": [
              "<pyspark.sql.session.SparkSession at 0x7fa099a5acc0>"
            ]
          },
          "metadata": {
            "tags": []
          },
          "execution_count": 15
        }
      ]
    },
    {
      "cell_type": "markdown",
      "metadata": {
        "colab_type": "text",
        "id": "0ysUlfFrN5OD"
      },
      "source": [
        "## Downloading and preprocessing Chicago's Reported Crime Data"
      ]
    },
    {
      "cell_type": "code",
      "metadata": {
        "colab_type": "code",
        "id": "FDtw5Hy3N-pV",
        "colab": {
          "base_uri": "https://localhost:8080/",
          "height": 202
        },
        "outputId": "e063da02-6fe8-4c46-dff0-99968a51bf0b"
      },
      "source": [
        "!wget https://data.cityofchicago.org/api/views/ijzp-q8t2/rows.csv?accessType=DOWNLOAD"
      ],
      "execution_count": 16,
      "outputs": [
        {
          "output_type": "stream",
          "text": [
            "--2020-04-21 16:54:48--  https://data.cityofchicago.org/api/views/ijzp-q8t2/rows.csv?accessType=DOWNLOAD\n",
            "Resolving data.cityofchicago.org (data.cityofchicago.org)... 52.206.140.199, 52.206.140.205, 52.206.68.26\n",
            "Connecting to data.cityofchicago.org (data.cityofchicago.org)|52.206.140.199|:443... connected.\n",
            "HTTP request sent, awaiting response... 200 OK\n",
            "Length: unspecified [text/csv]\n",
            "Saving to: ‘rows.csv?accessType=DOWNLOAD’\n",
            "\n",
            "rows.csv?accessType     [          <=>       ]   1.56G  3.08MB/s    in 8m 51s  \n",
            "\n",
            "2020-04-21 17:03:41 (3.01 MB/s) - ‘rows.csv?accessType=DOWNLOAD’ saved [1675589911]\n",
            "\n"
          ],
          "name": "stdout"
        }
      ]
    },
    {
      "cell_type": "code",
      "metadata": {
        "colab_type": "code",
        "id": "v4P5mMONYyVd",
        "colab": {
          "base_uri": "https://localhost:8080/",
          "height": 50
        },
        "outputId": "156c8202-c336-4c7f-cb26-d205b3eb355f"
      },
      "source": [
        "!ls"
      ],
      "execution_count": 17,
      "outputs": [
        {
          "output_type": "stream",
          "text": [
            "'rows.csv?accessType=DOWNLOAD'\t spark-2.3.1-bin-hadoop2.7\n",
            " sample_data\t\t\t spark-2.3.1-bin-hadoop2.7.tgz\n"
          ],
          "name": "stdout"
        }
      ]
    },
    {
      "cell_type": "code",
      "metadata": {
        "colab_type": "code",
        "id": "MzpuCsvDPWM-",
        "colab": {}
      },
      "source": [
        "!mv rows.csv?accessType=DOWNLOAD reported-crimes.csv"
      ],
      "execution_count": 0,
      "outputs": []
    },
    {
      "cell_type": "code",
      "metadata": {
        "colab_type": "code",
        "id": "9-1cK0nPNS95",
        "colab": {
          "base_uri": "https://localhost:8080/",
          "height": 222
        },
        "outputId": "388c5c4f-ce09-4ded-a1dc-e45d422df153"
      },
      "source": [
        "from pyspark.sql.functions import to_timestamp,col,lit\n",
        "rc = spark.read.csv('reported-crimes.csv',header=True).withColumn('Date',to_timestamp(col('Date'),'MM/dd/yyyy hh:mm:ss a')).filter(col('Date') <= lit('2018-11-11'))\n",
        "rc.show(5)"
      ],
      "execution_count": 123,
      "outputs": [
        {
          "output_type": "stream",
          "text": [
            "+--------+-----------+-------------------+--------------------+----+-------------------+--------------------+--------------------+------+--------+----+--------+----+--------------+--------+------------+------------+----+--------------------+--------+---------+--------+\n",
            "|      ID|Case Number|               Date|               Block|IUCR|       Primary Type|         Description|Location Description|Arrest|Domestic|Beat|District|Ward|Community Area|FBI Code|X Coordinate|Y Coordinate|Year|          Updated On|Latitude|Longitude|Location|\n",
            "+--------+-----------+-------------------+--------------------+----+-------------------+--------------------+--------------------+------+--------+----+--------+----+--------------+--------+------------+------------+----+--------------------+--------+---------+--------+\n",
            "|11034701|   JA366925|2001-01-01 11:00:00|     016XX E 86TH PL|1153| DECEPTIVE PRACTICE|FINANCIAL IDENTIT...|           RESIDENCE| false|   false|0412|     004|   8|            45|      11|        null|        null|2001|08/05/2017 03:50:...|    null|     null|    null|\n",
            "|11227287|   JB147188|2017-10-08 03:00:00|  092XX S RACINE AVE|0281|CRIM SEXUAL ASSAULT|      NON-AGGRAVATED|           RESIDENCE| false|   false|2222|     022|  21|            73|      02|        null|        null|2017|02/11/2018 03:57:...|    null|     null|    null|\n",
            "|11227583|   JB147595|2017-03-28 14:00:00|     026XX W 79TH ST|0620|           BURGLARY|      UNLAWFUL ENTRY|               OTHER| false|   false|0835|     008|  18|            70|      05|        null|        null|2017|02/11/2018 03:57:...|    null|     null|    null|\n",
            "|11227293|   JB147230|2017-09-09 20:17:00|060XX S EBERHART AVE|0810|              THEFT|           OVER $500|           RESIDENCE| false|   false|0313|     003|  20|            42|      06|        null|        null|2017|02/11/2018 03:57:...|    null|     null|    null|\n",
            "|11227634|   JB147599|2017-08-26 10:00:00| 001XX W RANDOLPH ST|0281|CRIM SEXUAL ASSAULT|      NON-AGGRAVATED|         HOTEL/MOTEL| false|   false|0122|     001|  42|            32|      02|        null|        null|2017|02/11/2018 03:57:...|    null|     null|    null|\n",
            "+--------+-----------+-------------------+--------------------+----+-------------------+--------------------+--------------------+------+--------+----+--------+----+--------------+--------+------------+------------+----+--------------------+--------+---------+--------+\n",
            "only showing top 5 rows\n",
            "\n"
          ],
          "name": "stdout"
        }
      ]
    },
    {
      "cell_type": "markdown",
      "metadata": {
        "id": "D9fHfKsTZkDI",
        "colab_type": "text"
      },
      "source": [
        "# Built-in Functions"
      ]
    },
    {
      "cell_type": "code",
      "metadata": {
        "id": "pyVEyDuDZoL-",
        "colab_type": "code",
        "colab": {
          "base_uri": "https://localhost:8080/",
          "height": 54
        },
        "outputId": "af06d5eb-cb3b-4378-e9d4-4311602bb2a1"
      },
      "source": [
        "from pyspark.sql import functions\n",
        "print(dir(functions))"
      ],
      "execution_count": 78,
      "outputs": [
        {
          "output_type": "stream",
          "text": [
            "['AutoBatchedSerializer', 'Column', 'DataFrame', 'DataType', 'PandasUDFType', 'PickleSerializer', 'PythonEvalType', 'SparkContext', 'StringType', 'UserDefinedFunction', '__all__', '__builtins__', '__cached__', '__doc__', '__file__', '__loader__', '__name__', '__package__', '__spec__', '_binary_mathfunctions', '_collect_list_doc', '_collect_set_doc', '_create_binary_mathfunction', '_create_function', '_create_udf', '_create_window_function', '_functions', '_functions_1_4', '_functions_1_6', '_functions_2_1', '_functions_deprecated', '_lit_doc', '_message', '_string_functions', '_test', '_to_java_column', '_to_seq', '_window_functions', '_wrap_deprecated_function', 'abs', 'acos', 'add_months', 'approxCountDistinct', 'approx_count_distinct', 'array', 'array_contains', 'asc', 'ascii', 'asin', 'atan', 'atan2', 'avg', 'base64', 'bin', 'bitwiseNOT', 'blacklist', 'broadcast', 'bround', 'cbrt', 'ceil', 'coalesce', 'col', 'collect_list', 'collect_set', 'column', 'concat', 'concat_ws', 'conv', 'corr', 'cos', 'cosh', 'count', 'countDistinct', 'covar_pop', 'covar_samp', 'crc32', 'create_map', 'cume_dist', 'current_date', 'current_timestamp', 'date_add', 'date_format', 'date_sub', 'date_trunc', 'datediff', 'dayofmonth', 'dayofweek', 'dayofyear', 'decode', 'degrees', 'dense_rank', 'desc', 'encode', 'exp', 'explode', 'explode_outer', 'expm1', 'expr', 'factorial', 'first', 'floor', 'format_number', 'format_string', 'from_json', 'from_unixtime', 'from_utc_timestamp', 'functools', 'get_json_object', 'greatest', 'grouping', 'grouping_id', 'hash', 'hex', 'hour', 'hypot', 'ignore_unicode_prefix', 'initcap', 'input_file_name', 'instr', 'isnan', 'isnull', 'json_tuple', 'kurtosis', 'lag', 'last', 'last_day', 'lead', 'least', 'length', 'levenshtein', 'lit', 'locate', 'log', 'log10', 'log1p', 'log2', 'lower', 'lpad', 'ltrim', 'map_keys', 'map_values', 'math', 'max', 'md5', 'mean', 'min', 'minute', 'monotonically_increasing_id', 'month', 'months_between', 'nanvl', 'next_day', 'ntile', 'pandas_udf', 'percent_rank', 'posexplode', 'posexplode_outer', 'pow', 'quarter', 'radians', 'rand', 'randn', 'rank', 'regexp_extract', 'regexp_replace', 'repeat', 'reverse', 'rint', 'round', 'row_number', 'rpad', 'rtrim', 'second', 'sha1', 'sha2', 'shiftLeft', 'shiftRight', 'shiftRightUnsigned', 'signum', 'sin', 'since', 'sinh', 'size', 'skewness', 'sort_array', 'soundex', 'spark_partition_id', 'split', 'sqrt', 'stddev', 'stddev_pop', 'stddev_samp', 'struct', 'substring', 'substring_index', 'sum', 'sumDistinct', 'sys', 'tan', 'tanh', 'toDegrees', 'toRadians', 'to_date', 'to_json', 'to_timestamp', 'to_utc_timestamp', 'translate', 'trim', 'trunc', 'udf', 'unbase64', 'unhex', 'unix_timestamp', 'upper', 'var_pop', 'var_samp', 'variance', 'warnings', 'weekofyear', 'when', 'window', 'year']\n"
          ],
          "name": "stdout"
        }
      ]
    },
    {
      "cell_type": "markdown",
      "metadata": {
        "id": "UmeeZhaxZ8-u",
        "colab_type": "text"
      },
      "source": [
        "String Functions"
      ]
    },
    {
      "cell_type": "code",
      "metadata": {
        "id": "izTY93ClZ4m-",
        "colab_type": "code",
        "colab": {}
      },
      "source": [
        "from pyspark.sql.functions import lower,upper, substring"
      ],
      "execution_count": 0,
      "outputs": []
    },
    {
      "cell_type": "code",
      "metadata": {
        "id": "ScIjDQ5daX9H",
        "colab_type": "code",
        "colab": {
          "base_uri": "https://localhost:8080/",
          "height": 269
        },
        "outputId": "5f31686c-4894-4526-abaa-88b113eaa739"
      },
      "source": [
        "help(substring)"
      ],
      "execution_count": 80,
      "outputs": [
        {
          "output_type": "stream",
          "text": [
            "Help on function substring in module pyspark.sql.functions:\n",
            "\n",
            "substring(str, pos, len)\n",
            "    Substring starts at `pos` and is of length `len` when str is String type or\n",
            "    returns the slice of byte array that starts at `pos` in byte and is of length `len`\n",
            "    when str is Binary type.\n",
            "    \n",
            "    .. note:: The position is not zero based, but 1 based index.\n",
            "    \n",
            "    >>> df = spark.createDataFrame([('abcd',)], ['s',])\n",
            "    >>> df.select(substring(df.s, 1, 2).alias('s')).collect()\n",
            "    [Row(s='ab')]\n",
            "    \n",
            "    .. versionadded:: 1.5\n",
            "\n"
          ],
          "name": "stdout"
        }
      ]
    },
    {
      "cell_type": "code",
      "metadata": {
        "id": "R3MCqPU6aya3",
        "colab_type": "code",
        "colab": {
          "base_uri": "https://localhost:8080/",
          "height": 420
        },
        "outputId": "5bb067d3-033c-4aea-818c-fa27de843610"
      },
      "source": [
        "rc.printSchema()"
      ],
      "execution_count": 82,
      "outputs": [
        {
          "output_type": "stream",
          "text": [
            "root\n",
            " |-- ID: string (nullable = true)\n",
            " |-- Case Number: string (nullable = true)\n",
            " |-- Date: timestamp (nullable = true)\n",
            " |-- Block: string (nullable = true)\n",
            " |-- IUCR: string (nullable = true)\n",
            " |-- Primary Type: string (nullable = true)\n",
            " |-- Description: string (nullable = true)\n",
            " |-- Location Description: string (nullable = true)\n",
            " |-- Arrest: string (nullable = true)\n",
            " |-- Domestic: string (nullable = true)\n",
            " |-- Beat: string (nullable = true)\n",
            " |-- District: string (nullable = true)\n",
            " |-- Ward: string (nullable = true)\n",
            " |-- Community Area: string (nullable = true)\n",
            " |-- FBI Code: string (nullable = true)\n",
            " |-- X Coordinate: string (nullable = true)\n",
            " |-- Y Coordinate: string (nullable = true)\n",
            " |-- Year: string (nullable = true)\n",
            " |-- Updated On: string (nullable = true)\n",
            " |-- Latitude: string (nullable = true)\n",
            " |-- Longitude: string (nullable = true)\n",
            " |-- Location: string (nullable = true)\n",
            "\n"
          ],
          "name": "stdout"
        }
      ]
    },
    {
      "cell_type": "code",
      "metadata": {
        "id": "6GWNqOEIa-KX",
        "colab_type": "code",
        "colab": {
          "base_uri": "https://localhost:8080/",
          "height": 202
        },
        "outputId": "efc6c844-376c-4fa2-e7eb-b09b8578319b"
      },
      "source": [
        "rc.select(lower(col('Primary Type')), upper(col('Primary Type')),substring(col('Primary Type'),1,4)).show(5)"
      ],
      "execution_count": 88,
      "outputs": [
        {
          "output_type": "stream",
          "text": [
            "+-------------------+-------------------+-----------------------------+\n",
            "|lower(Primary Type)|upper(Primary Type)|substring(Primary Type, 1, 4)|\n",
            "+-------------------+-------------------+-----------------------------+\n",
            "| deceptive practice| DECEPTIVE PRACTICE|                         DECE|\n",
            "|crim sexual assault|CRIM SEXUAL ASSAULT|                         CRIM|\n",
            "|           burglary|           BURGLARY|                         BURG|\n",
            "|              theft|              THEFT|                         THEF|\n",
            "|crim sexual assault|CRIM SEXUAL ASSAULT|                         CRIM|\n",
            "+-------------------+-------------------+-----------------------------+\n",
            "only showing top 5 rows\n",
            "\n"
          ],
          "name": "stdout"
        }
      ]
    },
    {
      "cell_type": "markdown",
      "metadata": {
        "id": "f_UjwTzBcLu-",
        "colab_type": "text"
      },
      "source": [
        "Numeric Functions"
      ]
    },
    {
      "cell_type": "code",
      "metadata": {
        "id": "jhlxvExkcCBh",
        "colab_type": "code",
        "colab": {}
      },
      "source": [
        "from pyspark.sql.functions import min,max"
      ],
      "execution_count": 0,
      "outputs": []
    },
    {
      "cell_type": "code",
      "metadata": {
        "id": "eZhsTn_IcpR8",
        "colab_type": "code",
        "colab": {
          "base_uri": "https://localhost:8080/",
          "height": 118
        },
        "outputId": "fd23a2b9-c8a5-40f4-f162-7c750eea087c"
      },
      "source": [
        "rc3.select(min(col('Date')),max(col('Date'))).show()"
      ],
      "execution_count": 93,
      "outputs": [
        {
          "output_type": "stream",
          "text": [
            "+-------------------+-------------------+\n",
            "|          min(Date)|          max(Date)|\n",
            "+-------------------+-------------------+\n",
            "|2001-01-01 00:00:00|2018-11-12 00:00:00|\n",
            "+-------------------+-------------------+\n",
            "\n"
          ],
          "name": "stdout"
        }
      ]
    },
    {
      "cell_type": "markdown",
      "metadata": {
        "id": "JAqwjCpzdU1T",
        "colab_type": "text"
      },
      "source": [
        "Date Functions"
      ]
    },
    {
      "cell_type": "code",
      "metadata": {
        "id": "7FY3rfc0dYwW",
        "colab_type": "code",
        "colab": {}
      },
      "source": [
        "from pyspark.sql.functions import date_add,date_sub"
      ],
      "execution_count": 0,
      "outputs": []
    },
    {
      "cell_type": "code",
      "metadata": {
        "id": "49NwLqTAd0l2",
        "colab_type": "code",
        "colab": {
          "base_uri": "https://localhost:8080/",
          "height": 118
        },
        "outputId": "3230c590-3eb2-4ab8-bc0d-3f4c9d8eee91"
      },
      "source": [
        "rc3.select(date_add(min(col('Date')),3), date_sub(max(col('Date')),3)).show()"
      ],
      "execution_count": 96,
      "outputs": [
        {
          "output_type": "stream",
          "text": [
            "+----------------------+----------------------+\n",
            "|date_add(min(Date), 3)|date_sub(max(Date), 3)|\n",
            "+----------------------+----------------------+\n",
            "|            2001-01-04|            2018-11-09|\n",
            "+----------------------+----------------------+\n",
            "\n"
          ],
          "name": "stdout"
        }
      ]
    },
    {
      "cell_type": "markdown",
      "metadata": {
        "id": "RfpS2EGGfAbT",
        "colab_type": "text"
      },
      "source": [
        "Create dataframe and convert them to date and timestamp"
      ]
    },
    {
      "cell_type": "code",
      "metadata": {
        "id": "6F4uCYE-fUM2",
        "colab_type": "code",
        "colab": {}
      },
      "source": [
        "from pyspark.sql.functions import to_date,to_timestamp,lit"
      ],
      "execution_count": 0,
      "outputs": []
    },
    {
      "cell_type": "code",
      "metadata": {
        "id": "FY7XSMPVfZrA",
        "colab_type": "code",
        "colab": {
          "base_uri": "https://localhost:8080/",
          "height": 118
        },
        "outputId": "af69912d-795e-4587-c13c-6a9e7d738fd4"
      },
      "source": [
        "df=spark.createDataFrame((['2019-12-25 13:30:00'],), ['Christmas'])\n",
        "df.show()"
      ],
      "execution_count": 104,
      "outputs": [
        {
          "output_type": "stream",
          "text": [
            "+-------------------+\n",
            "|          Christmas|\n",
            "+-------------------+\n",
            "|2019-12-25 13:30:00|\n",
            "+-------------------+\n",
            "\n"
          ],
          "name": "stdout"
        }
      ]
    },
    {
      "cell_type": "code",
      "metadata": {
        "id": "hRe1DmsFhYay",
        "colab_type": "code",
        "colab": {
          "base_uri": "https://localhost:8080/",
          "height": 118
        },
        "outputId": "879988ba-704f-44bc-eb34-a04243a3b60e"
      },
      "source": [
        "df.select(to_date(col('Christmas'),'yyyy-MM-dd HH:mm:ss'),to_timestamp(col('Christmas'),'yyyy-MM-dd HH:mm:ss')).show()"
      ],
      "execution_count": 108,
      "outputs": [
        {
          "output_type": "stream",
          "text": [
            "+-------------------------------------------+------------------------------------------------+\n",
            "|to_date(`Christmas`, 'yyyy-MM-dd HH:mm:ss')|to_timestamp(`Christmas`, 'yyyy-MM-dd HH:mm:ss')|\n",
            "+-------------------------------------------+------------------------------------------------+\n",
            "|                                 2019-12-25|                             2019-12-25 13:30:00|\n",
            "+-------------------------------------------+------------------------------------------------+\n",
            "\n"
          ],
          "name": "stdout"
        }
      ]
    },
    {
      "cell_type": "code",
      "metadata": {
        "id": "0H3PixoniXXH",
        "colab_type": "code",
        "colab": {
          "base_uri": "https://localhost:8080/",
          "height": 118
        },
        "outputId": "a8bc1b92-3930-46c2-b2ef-a9c702cc079c"
      },
      "source": [
        "df1=spark.createDataFrame([('25/Dec/2019 13:30:00',)], ['Christmas'])\n",
        "df1.show()"
      ],
      "execution_count": 113,
      "outputs": [
        {
          "output_type": "stream",
          "text": [
            "+--------------------+\n",
            "|           Christmas|\n",
            "+--------------------+\n",
            "|25/Dec/2019 13:30:00|\n",
            "+--------------------+\n",
            "\n"
          ],
          "name": "stdout"
        }
      ]
    },
    {
      "cell_type": "code",
      "metadata": {
        "id": "b3CYBuSviu09",
        "colab_type": "code",
        "colab": {
          "base_uri": "https://localhost:8080/",
          "height": 118
        },
        "outputId": "9e33c23b-eb71-43e8-9f5b-75b8ca4ec58f"
      },
      "source": [
        "df1.select(to_date(col('Christmas'),'dd/MMM/yyyy HH:mm:ss'),to_timestamp(col('Christmas'),'dd/MMM/yyyy HH:mm:ss')).show()"
      ],
      "execution_count": 115,
      "outputs": [
        {
          "output_type": "stream",
          "text": [
            "+--------------------------------------------+-------------------------------------------------+\n",
            "|to_date(`Christmas`, 'dd/MMM/yyyy HH:mm:ss')|to_timestamp(`Christmas`, 'dd/MMM/yyyy HH:mm:ss')|\n",
            "+--------------------------------------------+-------------------------------------------------+\n",
            "|                                  2019-12-25|                              2019-12-25 13:30:00|\n",
            "+--------------------------------------------+-------------------------------------------------+\n",
            "\n"
          ],
          "name": "stdout"
        }
      ]
    },
    {
      "cell_type": "code",
      "metadata": {
        "id": "myLEUX50jmKD",
        "colab_type": "code",
        "colab": {
          "base_uri": "https://localhost:8080/",
          "height": 118
        },
        "outputId": "b96eec27-cccd-4361-c505-01c446c019da"
      },
      "source": [
        "df2=spark.createDataFrame([('12/25/2019 01:30:00 PM',)], ['Christmas'])\n",
        "df2.show()"
      ],
      "execution_count": 116,
      "outputs": [
        {
          "output_type": "stream",
          "text": [
            "+--------------------+\n",
            "|           Christmas|\n",
            "+--------------------+\n",
            "|12/25/2019 01:30:...|\n",
            "+--------------------+\n",
            "\n"
          ],
          "name": "stdout"
        }
      ]
    },
    {
      "cell_type": "code",
      "metadata": {
        "id": "ivvz6_1oj32z",
        "colab_type": "code",
        "colab": {
          "base_uri": "https://localhost:8080/",
          "height": 118
        },
        "outputId": "03a34261-6028-4f06-ce18-1041cd99644f"
      },
      "source": [
        "df2.select(to_date(col('Christmas'),'MM/dd/yyyy hh:mm:ss aa'),to_timestamp(col('Christmas'),'MM/dd/yyyy hh:mm:ss aa')).show()"
      ],
      "execution_count": 120,
      "outputs": [
        {
          "output_type": "stream",
          "text": [
            "+----------------------------------------------+---------------------------------------------------+\n",
            "|to_date(`Christmas`, 'MM/dd/yyyy hh:mm:ss aa')|to_timestamp(`Christmas`, 'MM/dd/yyyy hh:mm:ss aa')|\n",
            "+----------------------------------------------+---------------------------------------------------+\n",
            "|                                    2019-12-25|                                2019-12-25 13:30:00|\n",
            "+----------------------------------------------+---------------------------------------------------+\n",
            "\n"
          ],
          "name": "stdout"
        }
      ]
    },
    {
      "cell_type": "code",
      "metadata": {
        "id": "usK1SzFopbBA",
        "colab_type": "code",
        "colab": {
          "base_uri": "https://localhost:8080/",
          "height": 222
        },
        "outputId": "c0ac908a-b344-41ed-9214-d4b839fcb7ba"
      },
      "source": [
        "df3=spark.read.csv('reported-crimes.csv',header=True)\n",
        "df3.show(5, truncate=False)"
      ],
      "execution_count": 122,
      "outputs": [
        {
          "output_type": "stream",
          "text": [
            "+--------+-----------+----------------------+--------------------+----+-------------------+-----------------------------------+--------------------+------+--------+----+--------+----+--------------+--------+------------+------------+----+----------------------+--------+---------+--------+\n",
            "|ID      |Case Number|Date                  |Block               |IUCR|Primary Type       |Description                        |Location Description|Arrest|Domestic|Beat|District|Ward|Community Area|FBI Code|X Coordinate|Y Coordinate|Year|Updated On            |Latitude|Longitude|Location|\n",
            "+--------+-----------+----------------------+--------------------+----+-------------------+-----------------------------------+--------------------+------+--------+----+--------+----+--------------+--------+------------+------------+----+----------------------+--------+---------+--------+\n",
            "|11034701|JA366925   |01/01/2001 11:00:00 AM|016XX E 86TH PL     |1153|DECEPTIVE PRACTICE |FINANCIAL IDENTITY THEFT OVER $ 300|RESIDENCE           |false |false   |0412|004     |8   |45            |11      |null        |null        |2001|08/05/2017 03:50:08 PM|null    |null     |null    |\n",
            "|11227287|JB147188   |10/08/2017 03:00:00 AM|092XX S RACINE AVE  |0281|CRIM SEXUAL ASSAULT|NON-AGGRAVATED                     |RESIDENCE           |false |false   |2222|022     |21  |73            |02      |null        |null        |2017|02/11/2018 03:57:41 PM|null    |null     |null    |\n",
            "|11227583|JB147595   |03/28/2017 02:00:00 PM|026XX W 79TH ST     |0620|BURGLARY           |UNLAWFUL ENTRY                     |OTHER               |false |false   |0835|008     |18  |70            |05      |null        |null        |2017|02/11/2018 03:57:41 PM|null    |null     |null    |\n",
            "|11227293|JB147230   |09/09/2017 08:17:00 PM|060XX S EBERHART AVE|0810|THEFT              |OVER $500                          |RESIDENCE           |false |false   |0313|003     |20  |42            |06      |null        |null        |2017|02/11/2018 03:57:41 PM|null    |null     |null    |\n",
            "|11227634|JB147599   |08/26/2017 10:00:00 AM|001XX W RANDOLPH ST |0281|CRIM SEXUAL ASSAULT|NON-AGGRAVATED                     |HOTEL/MOTEL         |false |false   |0122|001     |42  |32            |02      |null        |null        |2017|02/11/2018 03:57:41 PM|null    |null     |null    |\n",
            "+--------+-----------+----------------------+--------------------+----+-------------------+-----------------------------------+--------------------+------+--------+----+--------+----+--------------+--------+------------+------------+----+----------------------+--------+---------+--------+\n",
            "only showing top 5 rows\n",
            "\n"
          ],
          "name": "stdout"
        }
      ]
    },
    {
      "cell_type": "markdown",
      "metadata": {
        "id": "BenmY3euqG63",
        "colab_type": "text"
      },
      "source": [
        "# Joins"
      ]
    },
    {
      "cell_type": "markdown",
      "metadata": {
        "id": "ERmqV7Giua0h",
        "colab_type": "text"
      },
      "source": [
        "Download PoliStations"
      ]
    },
    {
      "cell_type": "code",
      "metadata": {
        "id": "3TRoogkrui7W",
        "colab_type": "code",
        "colab": {
          "base_uri": "https://localhost:8080/",
          "height": 202
        },
        "outputId": "f2af6833-2a9a-4e4e-c980-396ae79b0677"
      },
      "source": [
        "!wget https://data.cityofchicago.org/api/views/z8bn-74gv/rows.csv?accessType=DOWNLOAD"
      ],
      "execution_count": 124,
      "outputs": [
        {
          "output_type": "stream",
          "text": [
            "--2020-04-21 21:52:52--  https://data.cityofchicago.org/api/views/z8bn-74gv/rows.csv?accessType=DOWNLOAD\n",
            "Resolving data.cityofchicago.org (data.cityofchicago.org)... 52.206.140.205, 52.206.140.199, 52.206.68.26\n",
            "Connecting to data.cityofchicago.org (data.cityofchicago.org)|52.206.140.205|:443... connected.\n",
            "HTTP request sent, awaiting response... 200 OK\n",
            "Length: unspecified [text/csv]\n",
            "Saving to: ‘rows.csv?accessType=DOWNLOAD’\n",
            "\n",
            "rows.csv?accessType     [ <=>                ]   5.57K  --.-KB/s    in 0s      \n",
            "\n",
            "2020-04-21 21:52:54 (306 MB/s) - ‘rows.csv?accessType=DOWNLOAD’ saved [5699]\n",
            "\n"
          ],
          "name": "stdout"
        }
      ]
    },
    {
      "cell_type": "code",
      "metadata": {
        "id": "FKAqrAqSurXT",
        "colab_type": "code",
        "colab": {}
      },
      "source": [
        "!mv rows.csv?accessType=DOWNLOAD plice-stations.csv"
      ],
      "execution_count": 0,
      "outputs": []
    },
    {
      "cell_type": "code",
      "metadata": {
        "id": "qeSCh_tRu5EZ",
        "colab_type": "code",
        "colab": {
          "base_uri": "https://localhost:8080/",
          "height": 50
        },
        "outputId": "613f4d53-23e9-4a35-cf6a-04d6c73c65d8"
      },
      "source": [
        "!ls"
      ],
      "execution_count": 126,
      "outputs": [
        {
          "output_type": "stream",
          "text": [
            "plice-stations.csv   sample_data\t\tspark-2.3.1-bin-hadoop2.7.tgz\n",
            "reported-crimes.csv  spark-2.3.1-bin-hadoop2.7\tspark-warehouse\n"
          ],
          "name": "stdout"
        }
      ]
    },
    {
      "cell_type": "code",
      "metadata": {
        "id": "HwvhmfGCvBik",
        "colab_type": "code",
        "colab": {}
      },
      "source": [
        "!mv plice-stations.csv police-station.csv"
      ],
      "execution_count": 0,
      "outputs": []
    },
    {
      "cell_type": "code",
      "metadata": {
        "id": "NtMwuU-yqInP",
        "colab_type": "code",
        "colab": {
          "base_uri": "https://localhost:8080/",
          "height": 222
        },
        "outputId": "7db86eff-6f0c-4502-9d81-16edd80ca9f4"
      },
      "source": [
        "ps = spark.read.csv('police-station.csv',header=True)\n",
        "ps.show(5)"
      ],
      "execution_count": 130,
      "outputs": [
        {
          "output_type": "stream",
          "text": [
            "+------------+--------------+--------------------+-------+-----+-----+--------------------+------------+------------+------------+------------+------------+-----------+------------+--------------------+\n",
            "|    DISTRICT| DISTRICT NAME|             ADDRESS|   CITY|STATE|  ZIP|             WEBSITE|       PHONE|         FAX|         TTY|X COORDINATE|Y COORDINATE|   LATITUDE|   LONGITUDE|            LOCATION|\n",
            "+------------+--------------+--------------------+-------+-----+-----+--------------------+------------+------------+------------+------------+------------+-----------+------------+--------------------+\n",
            "|Headquarters|  Headquarters| 3510 S Michigan Ave|Chicago|   IL|60653|http://home.chica...|        null|        null|        null| 1177731.401| 1881697.404|41.83070169|-87.62339535|(41.8307016873, -...|\n",
            "|           1|       Central|     1718 S State St|Chicago|   IL|60616|http://home.chica...|312-745-4290|312-745-3694|312-745-3693| 1176569.052| 1891771.704|41.85837259|-87.62735617|(41.8583725929, -...|\n",
            "|           6|       Gresham|   7808 S Halsted St|Chicago|   IL|60620|http://home.chica...|312-745-3617|312-745-3649|312-745-3639| 1172283.013| 1853022.646|41.75213684|-87.64422891|(41.7521368378, -...|\n",
            "|          11|      Harrison|  3151 W Harrison St|Chicago|   IL|60612|http://home.chica...|312-746-8386|312-746-4281|312-746-5151| 1155244.069| 1897148.755|41.87358229|-87.70548813|(41.8735822883, -...|\n",
            "|          16|Jefferson Park|5151 N Milwaukee Ave|Chicago|   IL|60630|http://home.chica...|312-742-4480|312-742-4421|312-742-4423| 1138480.758| 1933660.473|41.97409445|-87.76614884|(41.9740944511, -...|\n",
            "+------------+--------------+--------------------+-------+-----+-----+--------------------+------------+------------+------------+------------+------------+-----------+------------+--------------------+\n",
            "only showing top 5 rows\n",
            "\n"
          ],
          "name": "stdout"
        }
      ]
    },
    {
      "cell_type": "markdown",
      "metadata": {
        "id": "jt86ZLQbve4N",
        "colab_type": "text"
      },
      "source": [
        "Add district name by joining two dataframes"
      ]
    },
    {
      "cell_type": "code",
      "metadata": {
        "id": "0cz7aH3EvlS6",
        "colab_type": "code",
        "colab": {
          "base_uri": "https://localhost:8080/",
          "height": 34
        },
        "outputId": "c462c243-4d60-4e6a-b205-e7b0e0535669"
      },
      "source": [
        "rc.cache()\n",
        "rc.count()"
      ],
      "execution_count": 131,
      "outputs": [
        {
          "output_type": "execute_result",
          "data": {
            "text/plain": [
              "6752663"
            ]
          },
          "metadata": {
            "tags": []
          },
          "execution_count": 131
        }
      ]
    },
    {
      "cell_type": "code",
      "metadata": {
        "id": "Em1wlZP_wASf",
        "colab_type": "code",
        "colab": {
          "base_uri": "https://localhost:8080/",
          "height": 454
        },
        "outputId": "85b73d5f-ca6d-4c33-b794-020387afce5c"
      },
      "source": [
        "ps.select(col('DISTRICT')).distinct().show()"
      ],
      "execution_count": 132,
      "outputs": [
        {
          "output_type": "stream",
          "text": [
            "+------------+\n",
            "|    DISTRICT|\n",
            "+------------+\n",
            "|           7|\n",
            "|          15|\n",
            "|          11|\n",
            "|           3|\n",
            "|           8|\n",
            "|          22|\n",
            "|          16|\n",
            "|           5|\n",
            "|          18|\n",
            "|          17|\n",
            "|           6|\n",
            "|          19|\n",
            "|          25|\n",
            "|Headquarters|\n",
            "|          24|\n",
            "|           9|\n",
            "|           1|\n",
            "|          20|\n",
            "|          10|\n",
            "|           4|\n",
            "+------------+\n",
            "only showing top 20 rows\n",
            "\n"
          ],
          "name": "stdout"
        }
      ]
    },
    {
      "cell_type": "code",
      "metadata": {
        "id": "v6cCErPww3r0",
        "colab_type": "code",
        "colab": {
          "base_uri": "https://localhost:8080/",
          "height": 454
        },
        "outputId": "b91ec2e2-1fa1-4f20-9830-6f2bb2e9506e"
      },
      "source": [
        "rc.select(col('district')).distinct().show()"
      ],
      "execution_count": 134,
      "outputs": [
        {
          "output_type": "stream",
          "text": [
            "+--------+\n",
            "|district|\n",
            "+--------+\n",
            "|     009|\n",
            "|     012|\n",
            "|     024|\n",
            "|    null|\n",
            "|     031|\n",
            "|     015|\n",
            "|     006|\n",
            "|     019|\n",
            "|     020|\n",
            "|     011|\n",
            "|     025|\n",
            "|     003|\n",
            "|     005|\n",
            "|     016|\n",
            "|     018|\n",
            "|     008|\n",
            "|     022|\n",
            "|     001|\n",
            "|     014|\n",
            "|     010|\n",
            "+--------+\n",
            "only showing top 20 rows\n",
            "\n"
          ],
          "name": "stdout"
        }
      ]
    },
    {
      "cell_type": "code",
      "metadata": {
        "id": "oQ6a6hY9xG1G",
        "colab_type": "code",
        "colab": {}
      },
      "source": [
        "from pyspark.sql.functions import lpad"
      ],
      "execution_count": 0,
      "outputs": []
    },
    {
      "cell_type": "code",
      "metadata": {
        "id": "0vEAp7o-xSMN",
        "colab_type": "code",
        "colab": {
          "base_uri": "https://localhost:8080/",
          "height": 202
        },
        "outputId": "a6d1bf2c-f1bd-4a3b-ce8e-fd735a1a59ac"
      },
      "source": [
        "help(lpad)"
      ],
      "execution_count": 137,
      "outputs": [
        {
          "output_type": "stream",
          "text": [
            "Help on function lpad in module pyspark.sql.functions:\n",
            "\n",
            "lpad(col, len, pad)\n",
            "    Left-pad the string column to width `len` with `pad`.\n",
            "    \n",
            "    >>> df = spark.createDataFrame([('abcd',)], ['s',])\n",
            "    >>> df.select(lpad(df.s, 6, '#').alias('s')).collect()\n",
            "    [Row(s='##abcd')]\n",
            "    \n",
            "    .. versionadded:: 1.5\n",
            "\n"
          ],
          "name": "stdout"
        }
      ]
    },
    {
      "cell_type": "code",
      "metadata": {
        "id": "xSix7e5BxdHO",
        "colab_type": "code",
        "colab": {
          "base_uri": "https://localhost:8080/",
          "height": 286
        },
        "outputId": "36e739b4-e528-43fa-cfef-6a5e72dfdd65"
      },
      "source": [
        "ps.select(lpad(col('district'),3,'0')).show(10)"
      ],
      "execution_count": 140,
      "outputs": [
        {
          "output_type": "stream",
          "text": [
            "+--------------------+\n",
            "|lpad(district, 3, 0)|\n",
            "+--------------------+\n",
            "|                 Hea|\n",
            "|                 001|\n",
            "|                 006|\n",
            "|                 011|\n",
            "|                 016|\n",
            "|                 024|\n",
            "|                 002|\n",
            "|                 007|\n",
            "|                 025|\n",
            "|                 010|\n",
            "+--------------------+\n",
            "only showing top 10 rows\n",
            "\n"
          ],
          "name": "stdout"
        }
      ]
    },
    {
      "cell_type": "code",
      "metadata": {
        "id": "9VDu_wYIz-sS",
        "colab_type": "code",
        "colab": {
          "base_uri": "https://localhost:8080/",
          "height": 306
        },
        "outputId": "85eb673a-0a0e-4699-a499-79ed7630e918"
      },
      "source": [
        "ps=ps.withColumn('newdistrict',lpad(col('district'),3,'0'))\n",
        "ps.show(10)"
      ],
      "execution_count": 141,
      "outputs": [
        {
          "output_type": "stream",
          "text": [
            "+------------+--------------+--------------------+-------+-----+-----+--------------------+------------+------------+------------+------------+------------+-----------+------------+--------------------+-----------+\n",
            "|    DISTRICT| DISTRICT NAME|             ADDRESS|   CITY|STATE|  ZIP|             WEBSITE|       PHONE|         FAX|         TTY|X COORDINATE|Y COORDINATE|   LATITUDE|   LONGITUDE|            LOCATION|newdistrict|\n",
            "+------------+--------------+--------------------+-------+-----+-----+--------------------+------------+------------+------------+------------+------------+-----------+------------+--------------------+-----------+\n",
            "|Headquarters|  Headquarters| 3510 S Michigan Ave|Chicago|   IL|60653|http://home.chica...|        null|        null|        null| 1177731.401| 1881697.404|41.83070169|-87.62339535|(41.8307016873, -...|        Hea|\n",
            "|           1|       Central|     1718 S State St|Chicago|   IL|60616|http://home.chica...|312-745-4290|312-745-3694|312-745-3693| 1176569.052| 1891771.704|41.85837259|-87.62735617|(41.8583725929, -...|        001|\n",
            "|           6|       Gresham|   7808 S Halsted St|Chicago|   IL|60620|http://home.chica...|312-745-3617|312-745-3649|312-745-3639| 1172283.013| 1853022.646|41.75213684|-87.64422891|(41.7521368378, -...|        006|\n",
            "|          11|      Harrison|  3151 W Harrison St|Chicago|   IL|60612|http://home.chica...|312-746-8386|312-746-4281|312-746-5151| 1155244.069| 1897148.755|41.87358229|-87.70548813|(41.8735822883, -...|        011|\n",
            "|          16|Jefferson Park|5151 N Milwaukee Ave|Chicago|   IL|60630|http://home.chica...|312-742-4480|312-742-4421|312-742-4423| 1138480.758| 1933660.473|41.97409445|-87.76614884|(41.9740944511, -...|        016|\n",
            "|          24|   Rogers Park|     6464 N Clark St|Chicago|   IL|60626|http://home.chica...|312-744-5907|312-744-6928|312-744-7603| 1164193.588| 1943199.401|41.99976348|-87.67132429|(41.9997634842, -...|        024|\n",
            "|           2|     Wentworth|5101 S Wentworth Ave|Chicago|   IL|60609|http://home.chica...|312-747-8366|312-747-5396|312-747-6656| 1175864.837| 1871153.753|41.80181109|-87.63056018|(41.8018110912, -...|        002|\n",
            "|           7|     Englewood|      1438 W 63rd St|Chicago|   IL|60636|http://home.chica...|312-747-8223|312-747-6558|312-747-6652| 1167659.235| 1863005.522|41.77963154|-87.66088702|(41.7796315359, -...|        007|\n",
            "|          25| Grand Central|    5555 W Grand Ave|Chicago|   IL|60639|http://home.chica...|312-746-8605|312-746-4353|312-746-8383| 1138770.871| 1913442.439|41.91860889|-87.76557448|(41.9186088912, -...|        025|\n",
            "|          10|         Ogden|    3315 W Ogden Ave|Chicago|   IL|60623|http://home.chica...|312-747-7511|312-747-7429|312-747-7471| 1154500.753| 1890985.501|41.85668453|-87.70838196|(41.8566845327, -...|        010|\n",
            "+------------+--------------+--------------------+-------+-----+-----+--------------------+------------+------------+------------+------------+------------+-----------+------------+--------------------+-----------+\n",
            "only showing top 10 rows\n",
            "\n"
          ],
          "name": "stdout"
        }
      ]
    },
    {
      "cell_type": "code",
      "metadata": {
        "id": "fOtakdVa0WZp",
        "colab_type": "code",
        "colab": {
          "base_uri": "https://localhost:8080/",
          "height": 306
        },
        "outputId": "128a840c-57a6-47f1-e71a-f6a7d3de6f06"
      },
      "source": [
        "rc.join(ps, rc.District == ps.newdistrict,'left_outer').show(10)"
      ],
      "execution_count": 146,
      "outputs": [
        {
          "output_type": "stream",
          "text": [
            "+--------+-----------+-------------------+--------------------+----+--------------------+--------------------+--------------------+------+--------+----+--------+----+--------------+--------+------------+------------+----+--------------------+--------+---------+--------+--------+--------------+--------------------+-------+-----+-----+--------------------+------------+------------+------------+------------+------------+-----------+------------+--------------------+-----------+\n",
            "|      ID|Case Number|               Date|               Block|IUCR|        Primary Type|         Description|Location Description|Arrest|Domestic|Beat|District|Ward|Community Area|FBI Code|X Coordinate|Y Coordinate|Year|          Updated On|Latitude|Longitude|Location|DISTRICT| DISTRICT NAME|             ADDRESS|   CITY|STATE|  ZIP|             WEBSITE|       PHONE|         FAX|         TTY|X COORDINATE|Y COORDINATE|   LATITUDE|   LONGITUDE|            LOCATION|newdistrict|\n",
            "+--------+-----------+-------------------+--------------------+----+--------------------+--------------------+--------------------+------+--------+----+--------+----+--------------+--------+------------+------------+----+--------------------+--------+---------+--------+--------+--------------+--------------------+-------+-----+-----+--------------------+------------+------------+------------+------------+------------+-----------+------------+--------------------+-----------+\n",
            "|11034701|   JA366925|2001-01-01 11:00:00|     016XX E 86TH PL|1153|  DECEPTIVE PRACTICE|FINANCIAL IDENTIT...|           RESIDENCE| false|   false|0412|     004|   8|            45|      11|        null|        null|2001|08/05/2017 03:50:...|    null|     null|    null|       4| South Chicago|     2255 E 103rd St|Chicago|   IL|60617|http://home.chica...|312-747-7581|312-747-5276|312-747-9169| 1193131.299| 1837090.265|41.70793329|-87.56834912|(41.7079332906, -...|        004|\n",
            "|11227287|   JB147188|2017-10-08 03:00:00|  092XX S RACINE AVE|0281| CRIM SEXUAL ASSAULT|      NON-AGGRAVATED|           RESIDENCE| false|   false|2222|     022|  21|            73|      02|        null|        null|2017|02/11/2018 03:57:...|    null|     null|    null|      22|   Morgan Park| 1900 W Monterey Ave|Chicago|   IL|60643|http://home.chica...|312-745-0710|312-745-0814|312-745-0569| 1165825.476| 1830851.333|41.69143478|-87.66852039|(41.6914347795, -...|        022|\n",
            "|11227583|   JB147595|2017-03-28 14:00:00|     026XX W 79TH ST|0620|            BURGLARY|      UNLAWFUL ENTRY|               OTHER| false|   false|0835|     008|  18|            70|      05|        null|        null|2017|02/11/2018 03:57:...|    null|     null|    null|       8|  Chicago Lawn|      3420 W 63rd St|Chicago|   IL|60629|http://home.chica...|312-747-8730|312-747-8545|312-747-8116| 1154575.242| 1862672.049|41.77898719|-87.70886382|(41.778987189, -8...|        008|\n",
            "|11227293|   JB147230|2017-09-09 20:17:00|060XX S EBERHART AVE|0810|               THEFT|           OVER $500|           RESIDENCE| false|   false|0313|     003|  20|            42|      06|        null|        null|2017|02/11/2018 03:57:...|    null|     null|    null|       3|Grand Crossing|7040 S Cottage Gr...|Chicago|   IL|60637|http://home.chica...|312-747-8201|312-747-5479|312-747-9168| 1182739.183| 1858317.732|41.76643089|-87.60574786|(41.7664308925, -...|        003|\n",
            "|11227634|   JB147599|2017-08-26 10:00:00| 001XX W RANDOLPH ST|0281| CRIM SEXUAL ASSAULT|      NON-AGGRAVATED|         HOTEL/MOTEL| false|   false|0122|     001|  42|            32|      02|        null|        null|2017|02/11/2018 03:57:...|    null|     null|    null|       1|       Central|     1718 S State St|Chicago|   IL|60616|http://home.chica...|312-745-4290|312-745-3694|312-745-3693| 1176569.052| 1891771.704|41.85837259|-87.62735617|(41.8583725929, -...|        001|\n",
            "|11227517|   JB138481|2013-02-10 00:00:00|071XX S LAFAYETTE...|0266| CRIM SEXUAL ASSAULT|           PREDATORY|           RESIDENCE| false|   false|0731|     007|   6|            69|      02|        null|        null|2013|02/11/2018 03:57:...|    null|     null|    null|       7|     Englewood|      1438 W 63rd St|Chicago|   IL|60636|http://home.chica...|312-747-8223|312-747-6558|312-747-6652| 1167659.235| 1863005.522|41.77963154|-87.66088702|(41.7796315359, -...|        007|\n",
            "|11227503|   JB146383|2015-01-01 00:01:00|061XX S KILBOURN AVE|1751|OFFENSE INVOLVING...|CRIM SEX ABUSE BY...|           RESIDENCE| false|    true|0813|     008|  13|            65|      17|        null|        null|2015|04/12/2019 04:00:...|    null|     null|    null|       8|  Chicago Lawn|      3420 W 63rd St|Chicago|   IL|60629|http://home.chica...|312-747-8730|312-747-8545|312-747-8116| 1154575.242| 1862672.049|41.77898719|-87.70886382|(41.778987189, -8...|        008|\n",
            "|11227508|   JB146365|2017-01-01 00:01:00|  027XX S WHIPPLE ST|1754|OFFENSE INVOLVING...|AGG SEX ASSLT OF ...|           RESIDENCE| false|   false|1033|     010|  12|            30|      02|        null|        null|2017|02/11/2018 03:57:...|    null|     null|    null|      10|         Ogden|    3315 W Ogden Ave|Chicago|   IL|60623|http://home.chica...|312-747-7511|312-747-7429|312-747-7471| 1154500.753| 1890985.501|41.85668453|-87.70838196|(41.8566845327, -...|        010|\n",
            "|11022695|   JA353568|2017-07-17 10:10:00| 021XX W MC LEAN AVE|0810|               THEFT|           OVER $500|           RESIDENCE| false|   false|1432|     014|  32|            22|      06|        null|        null|2017|07/24/2017 03:54:...|    null|     null|    null|      14|   Shakespeare|2150 N California...|Chicago|   IL|60647|http://home.chica...|312-744-8250|312-744-2422|312-744-8260| 1157304.426| 1914481.521|41.92110332|-87.69745182|(41.9211033246, -...|        014|\n",
            "|11227633|   JB147500|2017-12-28 15:55:00|011XX S MICHIGAN AVE|1153|  DECEPTIVE PRACTICE|FINANCIAL IDENTIT...|                null| false|   false|0123|     001|   2|            32|      11|        null|        null|2017|02/11/2018 03:57:...|    null|     null|    null|       1|       Central|     1718 S State St|Chicago|   IL|60616|http://home.chica...|312-745-4290|312-745-3694|312-745-3693| 1176569.052| 1891771.704|41.85837259|-87.62735617|(41.8583725929, -...|        001|\n",
            "+--------+-----------+-------------------+--------------------+----+--------------------+--------------------+--------------------+------+--------+----+--------+----+--------------+--------+------------+------------+----+--------------------+--------+---------+--------+--------+--------------+--------------------+-------+-----+-----+--------------------+------------+------------+------------+------------+------------+-----------+------------+--------------------+-----------+\n",
            "only showing top 10 rows\n",
            "\n"
          ],
          "name": "stdout"
        }
      ]
    },
    {
      "cell_type": "code",
      "metadata": {
        "id": "NOKUEdGa1-LQ",
        "colab_type": "code",
        "colab": {
          "base_uri": "https://localhost:8080/",
          "height": 286
        },
        "outputId": "552bcedf-12b0-46ee-c168-dcf9142ead4a"
      },
      "source": [
        "ps.columns"
      ],
      "execution_count": 148,
      "outputs": [
        {
          "output_type": "execute_result",
          "data": {
            "text/plain": [
              "['DISTRICT',\n",
              " 'DISTRICT NAME',\n",
              " 'ADDRESS',\n",
              " 'CITY',\n",
              " 'STATE',\n",
              " 'ZIP',\n",
              " 'WEBSITE',\n",
              " 'PHONE',\n",
              " 'FAX',\n",
              " 'TTY',\n",
              " 'X COORDINATE',\n",
              " 'Y COORDINATE',\n",
              " 'LATITUDE',\n",
              " 'LONGITUDE',\n",
              " 'LOCATION',\n",
              " 'newdistrict']"
            ]
          },
          "metadata": {
            "tags": []
          },
          "execution_count": 148
        }
      ]
    },
    {
      "cell_type": "code",
      "metadata": {
        "id": "shRV9_SV1x_W",
        "colab_type": "code",
        "colab": {
          "base_uri": "https://localhost:8080/",
          "height": 306
        },
        "outputId": "0254bf10-7787-4c97-8bb0-c85b432361d8"
      },
      "source": [
        "rc.join(ps, rc.District == ps.newdistrict,'left_outer').drop(\n",
        " 'ADDRESS',\n",
        " 'CITY',\n",
        " 'STATE',\n",
        " 'ZIP',\n",
        " 'WEBSITE',\n",
        " 'PHONE',\n",
        " 'FAX',\n",
        " 'TTY',\n",
        " 'X COORDINATE',\n",
        " 'Y COORDINATE',\n",
        " 'LATITUDE',\n",
        " 'LONGITUDE',\n",
        " 'LOCATION',\n",
        ").show(10)"
      ],
      "execution_count": 150,
      "outputs": [
        {
          "output_type": "stream",
          "text": [
            "+--------+-----------+-------------------+--------------------+----+--------------------+--------------------+--------------------+------+--------+----+--------+----+--------------+--------+----+--------------------+--------+--------------+-----------+\n",
            "|      ID|Case Number|               Date|               Block|IUCR|        Primary Type|         Description|Location Description|Arrest|Domestic|Beat|District|Ward|Community Area|FBI Code|Year|          Updated On|DISTRICT| DISTRICT NAME|newdistrict|\n",
            "+--------+-----------+-------------------+--------------------+----+--------------------+--------------------+--------------------+------+--------+----+--------+----+--------------+--------+----+--------------------+--------+--------------+-----------+\n",
            "|11034701|   JA366925|2001-01-01 11:00:00|     016XX E 86TH PL|1153|  DECEPTIVE PRACTICE|FINANCIAL IDENTIT...|           RESIDENCE| false|   false|0412|     004|   8|            45|      11|2001|08/05/2017 03:50:...|       4| South Chicago|        004|\n",
            "|11227287|   JB147188|2017-10-08 03:00:00|  092XX S RACINE AVE|0281| CRIM SEXUAL ASSAULT|      NON-AGGRAVATED|           RESIDENCE| false|   false|2222|     022|  21|            73|      02|2017|02/11/2018 03:57:...|      22|   Morgan Park|        022|\n",
            "|11227583|   JB147595|2017-03-28 14:00:00|     026XX W 79TH ST|0620|            BURGLARY|      UNLAWFUL ENTRY|               OTHER| false|   false|0835|     008|  18|            70|      05|2017|02/11/2018 03:57:...|       8|  Chicago Lawn|        008|\n",
            "|11227293|   JB147230|2017-09-09 20:17:00|060XX S EBERHART AVE|0810|               THEFT|           OVER $500|           RESIDENCE| false|   false|0313|     003|  20|            42|      06|2017|02/11/2018 03:57:...|       3|Grand Crossing|        003|\n",
            "|11227634|   JB147599|2017-08-26 10:00:00| 001XX W RANDOLPH ST|0281| CRIM SEXUAL ASSAULT|      NON-AGGRAVATED|         HOTEL/MOTEL| false|   false|0122|     001|  42|            32|      02|2017|02/11/2018 03:57:...|       1|       Central|        001|\n",
            "|11227517|   JB138481|2013-02-10 00:00:00|071XX S LAFAYETTE...|0266| CRIM SEXUAL ASSAULT|           PREDATORY|           RESIDENCE| false|   false|0731|     007|   6|            69|      02|2013|02/11/2018 03:57:...|       7|     Englewood|        007|\n",
            "|11227503|   JB146383|2015-01-01 00:01:00|061XX S KILBOURN AVE|1751|OFFENSE INVOLVING...|CRIM SEX ABUSE BY...|           RESIDENCE| false|    true|0813|     008|  13|            65|      17|2015|04/12/2019 04:00:...|       8|  Chicago Lawn|        008|\n",
            "|11227508|   JB146365|2017-01-01 00:01:00|  027XX S WHIPPLE ST|1754|OFFENSE INVOLVING...|AGG SEX ASSLT OF ...|           RESIDENCE| false|   false|1033|     010|  12|            30|      02|2017|02/11/2018 03:57:...|      10|         Ogden|        010|\n",
            "|11022695|   JA353568|2017-07-17 10:10:00| 021XX W MC LEAN AVE|0810|               THEFT|           OVER $500|           RESIDENCE| false|   false|1432|     014|  32|            22|      06|2017|07/24/2017 03:54:...|      14|   Shakespeare|        014|\n",
            "|11227633|   JB147500|2017-12-28 15:55:00|011XX S MICHIGAN AVE|1153|  DECEPTIVE PRACTICE|FINANCIAL IDENTIT...|                null| false|   false|0123|     001|   2|            32|      11|2017|02/11/2018 03:57:...|       1|       Central|        001|\n",
            "+--------+-----------+-------------------+--------------------+----+--------------------+--------------------+--------------------+------+--------+----+--------+----+--------------+--------+----+--------------------+--------+--------------+-----------+\n",
            "only showing top 10 rows\n",
            "\n"
          ],
          "name": "stdout"
        }
      ]
    },
    {
      "cell_type": "markdown",
      "metadata": {
        "id": "HF9QdE8hAAiy",
        "colab_type": "text"
      },
      "source": [
        "Most frequently reported nocriminal activity"
      ]
    },
    {
      "cell_type": "code",
      "metadata": {
        "id": "_khUeaBOAIqT",
        "colab_type": "code",
        "colab": {
          "base_uri": "https://localhost:8080/",
          "height": 34
        },
        "outputId": "a147fcab-9963-466e-81e0-0a2a0c80cbe0"
      },
      "source": [
        "rc.select(col('Primary Type')).distinct().count()"
      ],
      "execution_count": 153,
      "outputs": [
        {
          "output_type": "execute_result",
          "data": {
            "text/plain": [
              "36"
            ]
          },
          "metadata": {
            "tags": []
          },
          "execution_count": 153
        }
      ]
    },
    {
      "cell_type": "code",
      "metadata": {
        "id": "yvCq2QeoBG78",
        "colab_type": "code",
        "colab": {
          "base_uri": "https://localhost:8080/",
          "height": 706
        },
        "outputId": "7976d1f4-31e5-40ba-b9a3-164ad8743c01"
      },
      "source": [
        "rc.select(col('Primary Type')).distinct().show(36,truncate=False)"
      ],
      "execution_count": 158,
      "outputs": [
        {
          "output_type": "stream",
          "text": [
            "+---------------------------------+\n",
            "|Primary Type                     |\n",
            "+---------------------------------+\n",
            "|OFFENSE INVOLVING CHILDREN       |\n",
            "|CRIMINAL SEXUAL ASSAULT          |\n",
            "|STALKING                         |\n",
            "|PUBLIC PEACE VIOLATION           |\n",
            "|OBSCENITY                        |\n",
            "|NON-CRIMINAL (SUBJECT SPECIFIED) |\n",
            "|ARSON                            |\n",
            "|DOMESTIC VIOLENCE                |\n",
            "|GAMBLING                         |\n",
            "|CRIMINAL TRESPASS                |\n",
            "|ASSAULT                          |\n",
            "|NON - CRIMINAL                   |\n",
            "|LIQUOR LAW VIOLATION             |\n",
            "|MOTOR VEHICLE THEFT              |\n",
            "|THEFT                            |\n",
            "|BATTERY                          |\n",
            "|ROBBERY                          |\n",
            "|HOMICIDE                         |\n",
            "|RITUALISM                        |\n",
            "|PUBLIC INDECENCY                 |\n",
            "|CRIM SEXUAL ASSAULT              |\n",
            "|HUMAN TRAFFICKING                |\n",
            "|INTIMIDATION                     |\n",
            "|PROSTITUTION                     |\n",
            "|DECEPTIVE PRACTICE               |\n",
            "|CONCEALED CARRY LICENSE VIOLATION|\n",
            "|SEX OFFENSE                      |\n",
            "|CRIMINAL DAMAGE                  |\n",
            "|NARCOTICS                        |\n",
            "|NON-CRIMINAL                     |\n",
            "|OTHER OFFENSE                    |\n",
            "|KIDNAPPING                       |\n",
            "|BURGLARY                         |\n",
            "|WEAPONS VIOLATION                |\n",
            "|OTHER NARCOTIC VIOLATION         |\n",
            "|INTERFERENCE WITH PUBLIC OFFICER |\n",
            "+---------------------------------+\n",
            "\n"
          ],
          "name": "stdout"
        }
      ]
    },
    {
      "cell_type": "code",
      "metadata": {
        "id": "eRNl9ovcCA9G",
        "colab_type": "code",
        "colab": {
          "base_uri": "https://localhost:8080/",
          "height": 474
        },
        "outputId": "223cfbdf-67ee-43f6-a4e3-7b0a87d3af04"
      },
      "source": [
        "act= rc.filter((col('Primary Type')== 'NON-CRIMINAL') | (col('Primary Type') == 'NON-CRIMINAL (SUBJECT SPECIFIED)') | (col('Primary Type')== 'NON - CRIMINAL'))\n",
        "act.show()"
      ],
      "execution_count": 177,
      "outputs": [
        {
          "output_type": "stream",
          "text": [
            "+--------+-----------+-------------------+--------------------+----+--------------+--------------------+--------------------+------+--------+----+--------+----+--------------+--------+------------+------------+----+--------------------+------------+-------------+--------------------+\n",
            "|      ID|Case Number|               Date|               Block|IUCR|  Primary Type|         Description|Location Description|Arrest|Domestic|Beat|District|Ward|Community Area|FBI Code|X Coordinate|Y Coordinate|Year|          Updated On|    Latitude|    Longitude|            Location|\n",
            "+--------+-----------+-------------------+--------------------+----+--------------+--------------------+--------------------+------+--------+----+--------+----+--------------+--------+------------+------------+----+--------------------+------------+-------------+--------------------+\n",
            "|11249289|   JB176638|2016-12-23 12:00:00| 0000X N CENTRAL AVE|5093|  NON-CRIMINAL|       LOST PASSPORT|           RESIDENCE| false|   false|1513|     015|  29|            25|      26|        null|        null|2016|03/08/2018 03:55:...|        null|         null|                null|\n",
            "|10813751|   JA113073|2003-03-17 20:00:00| 029XX N MELVINA AVE|5093|  NON-CRIMINAL|       LOST PASSPORT|           RESIDENCE| false|   false|2511|     025|  29|            19|      26|        null|        null|2003|01/14/2017 03:49:...|        null|         null|                null|\n",
            "|10579978|   HZ328710|2015-12-25 09:00:00|036XX W FULLERTON...|5093|  NON-CRIMINAL|       LOST PASSPORT|            SIDEWALK| false|   false|2525|     025|  35|            22|      26|        null|        null|2015|06/30/2016 03:51:...|        null|         null|                null|\n",
            "|10422305|   HZ160770|2009-02-22 08:00:00|     024XX W 24TH PL|5093|  NON-CRIMINAL|       LOST PASSPORT|               OTHER| false|   false|1034|     010|  25|            31|      26|        null|        null|2009|02/22/2016 04:09:...|        null|         null|                null|\n",
            "|10828494|   JA129454|2014-10-17 13:05:00|053XX N CUMBERLAN...|5093|  NON-CRIMINAL|       LOST PASSPORT|           APARTMENT| false|   false|1614|     016|  41|            76|      26|        null|        null|2014|01/26/2017 03:48:...|        null|         null|                null|\n",
            "|10316326|   HY505345|2015-11-17 19:30:00|051XX S WENTWORTH...|5114|  NON-CRIMINAL|   FOID - REVOCATION|POLICE FACILITY/V...|  true|    true|0225|     002|   3|            37|      26|        null|        null|2015|02/09/2018 03:44:...|        null|         null|                null|\n",
            "|10385966|   HZ122461|2015-11-20 15:00:00| 010XX S MONITOR AVE|5093|  NON-CRIMINAL|       LOST PASSPORT|           RESIDENCE| false|   false|1513|     015|  29|            25|      26|        null|        null|2015|02/09/2018 03:44:...|        null|         null|                null|\n",
            "|11397021|   JB371684|2017-10-30 09:00:00|015XX W HOLLYWOOD...|5093|  NON-CRIMINAL|       LOST PASSPORT|           APARTMENT| false|   false|2012|     020|  40|            77|      26|        null|        null|2017|07/31/2018 03:50:...|        null|         null|                null|\n",
            "|11420921|   HY535672|2015-12-13 14:34:00|    100XX W OHARE ST|5093|  NON-CRIMINAL|       LOST PASSPORT|AIRPORT TERMINAL ...| false|   false|1651|     016|  41|            76|      26|        null|        null|2015|08/21/2018 04:05:...|        null|         null|                null|\n",
            "|10062441|   HY250685|2015-05-07 13:20:00| 012XX S HARDING AVE|5114|NON - CRIMINAL|   FOID - REVOCATION|           RESIDENCE| false|   false|1011|     010|  24|            29|      26|     1150243|     1894129|2015|02/10/2018 03:50:...|41.865394646|-87.723928428|(41.865394646, -8...|\n",
            "|10064717|   HY253344|2015-05-08 13:15:00|051XX S WENTWORTH...|5114|NON - CRIMINAL|   FOID - REVOCATION|POLICE FACILITY/V...| false|   false|0225|     002|   3|            37|      26|     1175826|     1871120|2015|02/10/2018 03:50:...| 41.80171934|-87.630703621|(41.80171934, -87...|\n",
            "|10072565|   HY261001|2015-05-14 10:30:00|    006XX N WELLS ST|5114|NON - CRIMINAL|   FOID - REVOCATION|              STREET| false|   false|1832|     018|  42|             8|      26|     1174623|     1904537|2015|02/10/2018 03:50:...| 41.89344506|-87.634117632|(41.89344506, -87...|\n",
            "|10109156|   HY297801|2015-06-12 09:00:00|    053XX S NEVA AVE|5114|NON - CRIMINAL|   FOID - REVOCATION|           RESIDENCE| false|   false|0811|     008|  23|            56|      26|     1129584|     1868411|2015|02/10/2018 03:50:...|41.795197456|-87.800355525|(41.795197456, -8...|\n",
            "|10115077|   HY304017|2015-06-16 19:00:00|  081XX S WHIPPLE ST|5114|NON - CRIMINAL|   FOID - REVOCATION|           RESIDENCE| false|   false|0835|     008|  18|            70|      26|     1157460|     1850515|2015|02/10/2018 03:50:...|41.745568408|-87.698616805|(41.745568408, -8...|\n",
            "|10124614|   HY313353|2015-06-23 17:05:00|085XX W WINNEMAC AVE|5114|NON - CRIMINAL|   FOID - REVOCATION|           RESIDENCE|  true|   false|1614|     016|  41|            76|      26|     1118538|     1932386|2015|02/10/2018 03:50:...|41.970936043|-87.839512637|(41.970936043, -8...|\n",
            "|10125981|   HY314305|2015-06-24 15:30:00|021XX N CALIFORNI...|5114|NON - CRIMINAL|   FOID - REVOCATION|POLICE FACILITY/V...| false|   false|1414|     014|  35|            22|      26|     1157345|     1914452|2015|02/10/2018 03:50:...|41.921021491| -87.69730355|(41.921021491, -8...|\n",
            "|10127418|   HY315600|2015-06-25 15:30:00|     022XX W 51ST ST|5114|NON - CRIMINAL|   FOID - REVOCATION|           RESIDENCE| false|   false|0931|     009|  16|            63|      26|     1162194|     1870807|2015|02/10/2018 03:50:...|41.801155339| -87.68070621|(41.801155339, -8...|\n",
            "|10127785|   HY316123|2015-06-25 22:45:00|051XX N MILWAUKEE...|5114|NON - CRIMINAL|   FOID - REVOCATION|POLICE FACILITY/V...|  true|   false|1623|     016|  45|            11|      26|     1138424|     1933673|2015|02/10/2018 03:50:...|41.974129858|-87.766357256|(41.974129858, -8...|\n",
            "|10128364|   HY316525|2015-06-26 10:45:00|035XX S MICHIGAN AVE|5114|NON - CRIMINAL|   FOID - REVOCATION|POLICE FACILITY/V...| false|   false|0213|     002|   3|            35|      26|     1177772|     1881665|2015|02/10/2018 03:50:...|41.830611847|-87.623247369|(41.830611847, -8...|\n",
            "|10132522|   HY321435|2015-06-29 22:23:00|     044XX W 76TH ST|1481|  NON-CRIMINAL|CONCEALED CARRY L...|              STREET|  true|   false|0833|     008|  13|            65|      15|     1148140|     1853871|2015|08/17/2015 03:03:...|41.754961443|-87.732681619|(41.754961443, -8...|\n",
            "+--------+-----------+-------------------+--------------------+----+--------------+--------------------+--------------------+------+--------+----+--------+----+--------------+--------+------------+------------+----+--------------------+------------+-------------+--------------------+\n",
            "only showing top 20 rows\n",
            "\n"
          ],
          "name": "stdout"
        }
      ]
    },
    {
      "cell_type": "code",
      "metadata": {
        "id": "4n_Ax7v1CzJV",
        "colab_type": "code",
        "colab": {
          "base_uri": "https://localhost:8080/",
          "height": 218
        },
        "outputId": "f8366f67-0839-44cf-af18-7b8c1d4b1a86"
      },
      "source": [
        "act.groupby(col('Description')).count().orderBy('count', ascending=False).show()"
      ],
      "execution_count": 181,
      "outputs": [
        {
          "output_type": "stream",
          "text": [
            "+--------------------+-----+\n",
            "|         Description|count|\n",
            "+--------------------+-----+\n",
            "|       LOST PASSPORT|  107|\n",
            "|   FOID - REVOCATION|   75|\n",
            "|NOTIFICATION OF C...|    9|\n",
            "|NOTIFICATION OF S...|    8|\n",
            "|CONCEALED CARRY L...|    5|\n",
            "|      FOUND PASSPORT|    4|\n",
            "|GUN OFFENDER NOTI...|    3|\n",
            "+--------------------+-----+\n",
            "\n"
          ],
          "name": "stdout"
        }
      ]
    },
    {
      "cell_type": "markdown",
      "metadata": {
        "id": "LmbqvsbQAZP2",
        "colab_type": "text"
      },
      "source": [
        "The day of the week with the most reported crime"
      ]
    },
    {
      "cell_type": "code",
      "metadata": {
        "id": "nVQfDSK_Litq",
        "colab_type": "code",
        "colab": {}
      },
      "source": [
        "from pyspark.sql.functions import dayofweek,date_format"
      ],
      "execution_count": 0,
      "outputs": []
    },
    {
      "cell_type": "code",
      "metadata": {
        "id": "MJIzJvZ1Ke6b",
        "colab_type": "code",
        "colab": {
          "base_uri": "https://localhost:8080/",
          "height": 454
        },
        "outputId": "9febef7c-8ea3-447e-b9bb-9beec1452a7e"
      },
      "source": [
        "act2= rc.select(dayofweek(to_date(col('Date'),'yyyy-MM-dd HH:mm:ss')).alias('weekday'), date_format(to_date(col('Date'),'yyyy-MM-dd HH:mm:ss'),'E').alias('nweekday'))\n",
        "act2.show()"
      ],
      "execution_count": 199,
      "outputs": [
        {
          "output_type": "stream",
          "text": [
            "+-------+--------+\n",
            "|weekday|nweekday|\n",
            "+-------+--------+\n",
            "|      2|     Mon|\n",
            "|      1|     Sun|\n",
            "|      3|     Tue|\n",
            "|      7|     Sat|\n",
            "|      7|     Sat|\n",
            "|      1|     Sun|\n",
            "|      5|     Thu|\n",
            "|      1|     Sun|\n",
            "|      2|     Mon|\n",
            "|      5|     Thu|\n",
            "|      6|     Fri|\n",
            "|      4|     Wed|\n",
            "|      1|     Sun|\n",
            "|      7|     Sat|\n",
            "|      1|     Sun|\n",
            "|      7|     Sat|\n",
            "|      4|     Wed|\n",
            "|      3|     Tue|\n",
            "|      7|     Sat|\n",
            "|      7|     Sat|\n",
            "+-------+--------+\n",
            "only showing top 20 rows\n",
            "\n"
          ],
          "name": "stdout"
        }
      ]
    },
    {
      "cell_type": "code",
      "metadata": {
        "id": "4i96sKebMebj",
        "colab_type": "code",
        "colab": {
          "base_uri": "https://localhost:8080/",
          "height": 218
        },
        "outputId": "a79c697b-9d76-434e-8e81-e5453faa92d0"
      },
      "source": [
        "act2.groupby(col('nweekday')).count().orderBy('count',ascending=False).show()"
      ],
      "execution_count": 200,
      "outputs": [
        {
          "output_type": "stream",
          "text": [
            "+--------+-------+\n",
            "|nweekday|  count|\n",
            "+--------+-------+\n",
            "|     Fri|1016875|\n",
            "|     Wed| 973791|\n",
            "|     Tue| 967960|\n",
            "|     Sat| 965087|\n",
            "|     Thu| 964449|\n",
            "|     Mon| 952642|\n",
            "|     Sun| 911859|\n",
            "+--------+-------+\n",
            "\n"
          ],
          "name": "stdout"
        }
      ]
    },
    {
      "cell_type": "code",
      "metadata": {
        "id": "WIUz0OQIPCbE",
        "colab_type": "code",
        "colab": {
          "base_uri": "https://localhost:8080/",
          "height": 134
        },
        "outputId": "39c8fa3a-9c38-4c87-cf09-358a0429b5b5"
      },
      "source": [
        "act2.groupby(col('nweekday')).count().orderBy('count',ascending=False).collect()"
      ],
      "execution_count": 201,
      "outputs": [
        {
          "output_type": "execute_result",
          "data": {
            "text/plain": [
              "[Row(nweekday='Fri', count=1016875),\n",
              " Row(nweekday='Wed', count=973791),\n",
              " Row(nweekday='Tue', count=967960),\n",
              " Row(nweekday='Sat', count=965087),\n",
              " Row(nweekday='Thu', count=964449),\n",
              " Row(nweekday='Mon', count=952642),\n",
              " Row(nweekday='Sun', count=911859)]"
            ]
          },
          "metadata": {
            "tags": []
          },
          "execution_count": 201
        }
      ]
    },
    {
      "cell_type": "code",
      "metadata": {
        "id": "LaR5djclPVjK",
        "colab_type": "code",
        "colab": {
          "base_uri": "https://localhost:8080/",
          "height": 34
        },
        "outputId": "58b81daf-3c7f-4f7f-956b-0e1b1abd1eb2"
      },
      "source": [
        "dow= [x[0] for x in act2.groupby(col('nweekday')).count().orderBy('count',ascending=False).collect()]\n",
        "dow"
      ],
      "execution_count": 203,
      "outputs": [
        {
          "output_type": "execute_result",
          "data": {
            "text/plain": [
              "['Fri', 'Wed', 'Tue', 'Sat', 'Thu', 'Mon', 'Sun']"
            ]
          },
          "metadata": {
            "tags": []
          },
          "execution_count": 203
        }
      ]
    },
    {
      "cell_type": "code",
      "metadata": {
        "id": "FjUI8M7VProt",
        "colab_type": "code",
        "colab": {
          "base_uri": "https://localhost:8080/",
          "height": 34
        },
        "outputId": "8a9eb9b2-33d6-4586-d10e-316bafb4185d"
      },
      "source": [
        "cnt= [x[1] for x in act2.groupby(col('nweekday')).count().orderBy('count',ascending=False).collect()]\n",
        "cnt"
      ],
      "execution_count": 204,
      "outputs": [
        {
          "output_type": "execute_result",
          "data": {
            "text/plain": [
              "[1016875, 973791, 967960, 965087, 964449, 952642, 911859]"
            ]
          },
          "metadata": {
            "tags": []
          },
          "execution_count": 204
        }
      ]
    },
    {
      "cell_type": "code",
      "metadata": {
        "id": "YmerM3thP7T1",
        "colab_type": "code",
        "colab": {}
      },
      "source": [
        "import pandas as pd\n",
        "import matplotlib.pyplot as plt\n"
      ],
      "execution_count": 0,
      "outputs": []
    },
    {
      "cell_type": "code",
      "metadata": {
        "id": "VUuFtZVhQBXT",
        "colab_type": "code",
        "colab": {
          "base_uri": "https://localhost:8080/",
          "height": 254
        },
        "outputId": "f1bf9473-fba0-46cf-f414-3ee07b643544"
      },
      "source": [
        "cp= pd.DataFrame({'Day of the Week' :dow, 'Counts':cnt})\n",
        "cp.head(7)"
      ],
      "execution_count": 211,
      "outputs": [
        {
          "output_type": "execute_result",
          "data": {
            "text/html": [
              "<div>\n",
              "<style scoped>\n",
              "    .dataframe tbody tr th:only-of-type {\n",
              "        vertical-align: middle;\n",
              "    }\n",
              "\n",
              "    .dataframe tbody tr th {\n",
              "        vertical-align: top;\n",
              "    }\n",
              "\n",
              "    .dataframe thead th {\n",
              "        text-align: right;\n",
              "    }\n",
              "</style>\n",
              "<table border=\"1\" class=\"dataframe\">\n",
              "  <thead>\n",
              "    <tr style=\"text-align: right;\">\n",
              "      <th></th>\n",
              "      <th>Day of the Week</th>\n",
              "      <th>Counts</th>\n",
              "    </tr>\n",
              "  </thead>\n",
              "  <tbody>\n",
              "    <tr>\n",
              "      <th>0</th>\n",
              "      <td>Fri</td>\n",
              "      <td>1016875</td>\n",
              "    </tr>\n",
              "    <tr>\n",
              "      <th>1</th>\n",
              "      <td>Wed</td>\n",
              "      <td>973791</td>\n",
              "    </tr>\n",
              "    <tr>\n",
              "      <th>2</th>\n",
              "      <td>Tue</td>\n",
              "      <td>967960</td>\n",
              "    </tr>\n",
              "    <tr>\n",
              "      <th>3</th>\n",
              "      <td>Sat</td>\n",
              "      <td>965087</td>\n",
              "    </tr>\n",
              "    <tr>\n",
              "      <th>4</th>\n",
              "      <td>Thu</td>\n",
              "      <td>964449</td>\n",
              "    </tr>\n",
              "    <tr>\n",
              "      <th>5</th>\n",
              "      <td>Mon</td>\n",
              "      <td>952642</td>\n",
              "    </tr>\n",
              "    <tr>\n",
              "      <th>6</th>\n",
              "      <td>Sun</td>\n",
              "      <td>911859</td>\n",
              "    </tr>\n",
              "  </tbody>\n",
              "</table>\n",
              "</div>"
            ],
            "text/plain": [
              "  Day of the Week   Counts\n",
              "0             Fri  1016875\n",
              "1             Wed   973791\n",
              "2             Tue   967960\n",
              "3             Sat   965087\n",
              "4             Thu   964449\n",
              "5             Mon   952642\n",
              "6             Sun   911859"
            ]
          },
          "metadata": {
            "tags": []
          },
          "execution_count": 211
        }
      ]
    },
    {
      "cell_type": "code",
      "metadata": {
        "id": "VCMvdlNLSfu7",
        "colab_type": "code",
        "colab": {}
      },
      "source": [
        "help(plt.plot)"
      ],
      "execution_count": 0,
      "outputs": []
    },
    {
      "cell_type": "code",
      "metadata": {
        "id": "9cbtnUUgQjRL",
        "colab_type": "code",
        "colab": {
          "base_uri": "https://localhost:8080/",
          "height": 319
        },
        "outputId": "2e7110f7-4825-4c37-e5dd-03a44bfd14fc"
      },
      "source": [
        "cp.plot(x='Day of the Week', y='Counts', kind='bar',color='olive')\n",
        "plt.xlabel('Day of the Week')\n",
        "plt.ylabel('Counts')"
      ],
      "execution_count": 237,
      "outputs": [
        {
          "output_type": "execute_result",
          "data": {
            "text/plain": [
              "Text(0, 0.5, 'Counts')"
            ]
          },
          "metadata": {
            "tags": []
          },
          "execution_count": 237
        },
        {
          "output_type": "display_data",
          "data": {
            "image/png": "[encoded data removed]",
            "text/plain": [
              "<Figure size 432x288 with 1 Axes>"
            ]
          },
          "metadata": {
            "tags": [],
            "needs_background": "light"
          }
        }
      ]
    }
  ]
}